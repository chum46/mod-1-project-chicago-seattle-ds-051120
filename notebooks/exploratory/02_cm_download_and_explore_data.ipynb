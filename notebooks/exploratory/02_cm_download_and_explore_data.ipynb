{
 "cells": [
  {
   "cell_type": "code",
   "execution_count": 577,
   "metadata": {},
   "outputs": [
    {
     "data": {
      "text/plain": [
       "array(['11606', '10100', '11505', '10400', '11615', '10300', '11801',\n",
       "       '11507', '11102', '11402', '11604', '11506', '11607', '10703',\n",
       "       '10702', '11706', '11101', '11000', '11300', '11603', '10800',\n",
       "       '10701', '11703', '11104', '11103', '11601', '11802', '11611',\n",
       "       '10502', '10200', '11705', '11602', '11616', '10901', '11702',\n",
       "       '11503', '11610', '11401', '11504', '11501', '10501', '11608',\n",
       "       '11200', '11900', '10902', '11704', '11605', '11612', '11613',\n",
       "       '11502', '10504', '10503', '10600', '11609', '11701', '11614'],\n",
       "      dtype=object)"
      ]
     },
     "execution_count": 577,
     "metadata": {},
     "output_type": "execute_result"
    }
   ],
   "source": [
    "import psycopg2\n",
    "import pandas as pd\n",
    "DBNAME = \"opportunity_youth\"\n",
    "conn = psycopg2.connect(dbname=DBNAME)\n",
    "df_sample = pd.read_sql(\"SELECT * FROM pums_2017;\", conn)\n",
    "df_sample['puma'].unique()"
   ]
  },
  {
   "cell_type": "code",
   "execution_count": null,
   "metadata": {},
   "outputs": [],
   "source": []
  }
 ],
 "metadata": {
  "kernelspec": {
   "display_name": "Python 3 (oy-env)",
   "language": "python",
   "name": "oy-env"
  },
  "language_info": {
   "codemirror_mode": {
    "name": "ipython",
    "version": 3
   },
   "file_extension": ".py",
   "mimetype": "text/x-python",
   "name": "python",
   "nbconvert_exporter": "python",
   "pygments_lexer": "ipython3",
   "version": "3.8.1"
  }
 },
 "nbformat": 4,
 "nbformat_minor": 4
}

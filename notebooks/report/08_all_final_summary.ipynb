{
 "cells": [
  {
   "cell_type": "markdown",
   "metadata": {},
   "source": [
    "# Final Notebook Analysis - Opportunity Youth Status in South King County"
   ]
  },
  {
   "cell_type": "markdown",
   "metadata": {},
   "source": [
<<<<<<< HEAD
    "## Contents\n",
    "    \n",
    "#### Purpose\n",
    "#### Plan for Analysis\n",
    "#### Useful Definitions\n",
    "#### Importing\n",
    "#### Opportunity Youth by PUMA code\n",
    ">- Data Initialization \n",
    ">- Data Analysis - Opportunity Youth by PUMA code\n",
    ">- Visualization - Opportunity Youth by PUMA code\n",
    "#### Opportunity Youth by Age\n",
    ">- Functions\n",
    ">- Data Initialization \n",
    ">- Data Analysis - Opportunity Youth Status by Age\n",
    ">- Updated Table\n",
    ">- Visualization - Opportunity Youth Education Level\n",
    "#### Real World Application\n",
    "#### Next Steps"
=======
    "### Contents\n",
    "    \n",
    "> - Purpose\n",
    "> - Plan for Analysis\n",
    "> - Useful Definitions\n",
    "> - Importing\n",
    "> - Opportunity Youth by PUMA code\n",
    "> - Data Initialization \n",
    "> - Data Analysis - Opportunity Youth by PUMA code\n",
    "> - Visualization - Opportunity Youth by PUMA code\n",
    "\n",
    "> - Opportunity Youth by Age\n",
    "> - Functions\n",
    "> - Data Initialization \n",
    "> - Data Analysis - Opportunity Youth Status by Age\n",
    "> - Updated Table\n",
    "> - Visualization - Opportunity Youth Education Level\n",
    "\n",
    "> - Recommendations\n",
>>>>>>> e76681aa0a6c01adc883cc9414ff7ce5bc2ffa4c
   ]
  },
  {
   "cell_type": "markdown",
   "metadata": {},
   "source": [
    "## Purpose\n",
    "The purpose of this project notebook is to inform the Seattle Research Partnership on the current status of Opportunity Youth in South King County, using the 2013-2017 ACS 5-Year PUMS data. \n",
    "\n",
    "* SOURCE: 2017 5-year American Community Survey [(ACS)](https://www.census.gov/programs-surveys/acs/about.html) Public Use Microdata Survey [(PUMS)](https://www.census.gov/programs-surveys/acs/technical-documentation/pums.html).\n",
    "\n",
    "In support of our analysis, we will produce the following:\n",
    "\n",
    "* An update of the estimated number of OY in South King County. In addition the estimate, be sure to include a breakdown of the count of OY by Public Use Microdata Area (PUMA) within South King County\n",
    "\n",
    "* Create visualizations that show the current status of Opportunity Youth.\n",
    "\n",
    "* Update the Opportunity Youth by Age table below, which was created with data from 2014. \n",
    "\n",
    "* A visualization that highlights a trend between the 2014 data and current data.\n",
    "\n",
    "![alt text](OY_Status_by_Age.png)"
   ]
  },
  {
   "cell_type": "markdown",
   "metadata": {},
   "source": [
    "## Plan for Analysis\n",
    "- Import dataset\n",
    "- Clean and Analyze the Data \n",
    "- Using the data, estimate of Opportunity Youth\n",
    "- Filter current data by age group to update the 2014 table\n",
    "- Display a table with the updated data\n",
    "- Visualize Findings\n",
    "- Identify any trends\n",
    "- Make Recommendations to the SRP"
   ]
  },
  {
   "cell_type": "markdown",
   "metadata": {},
   "source": [
    "## Useful Definitions\n",
    "* Definition of opportunity youth (16-to 24-year-olds not in school and not working)\n",
    "* South King County includes pumas 11610 to 11615\n",
    "* Throughout the notebook \"Opportunity Youth\" may be abbreviated as \"OY\""
   ]
  },
  {
   "cell_type": "markdown",
   "metadata": {},
   "source": [
    "## Importing"
   ]
  },
  {
   "cell_type": "markdown",
   "metadata": {},
   "source": [
    "The following cell allows us to import functions written in a separate file."
   ]
  },
  {
   "cell_type": "code",
   "execution_count": 22,
   "metadata": {},
   "outputs": [
    {
     "name": "stdout",
     "output_type": "stream",
     "text": [
      "The autoreload extension is already loaded. To reload it, use:\n",
      "  %reload_ext autoreload\n"
     ]
    }
   ],
   "source": [
    "import psycopg2\n",
    "import pandas as pd\n",
    "import numpy as np\n",
    "import seaborn as sns\n",
    "import matplotlib.pyplot as plt\n",
    "from matplotlib import rc\n",
    "%matplotlib inline\n",
    "DBNAME = \"opportunity_youth\"\n",
    "conn = psycopg2.connect(dbname=DBNAME)\n",
    "\n",
    "%load_ext autoreload\n",
    "%autoreload 2\n",
    "import os\n",
    "import sys\n",
    "module_path = os.path.abspath(os.path.join(os.pardir, os.pardir))\n",
    "if module_path not in sys.path:\n",
    "    sys.path.append(module_path)"
   ]
  },
  {
   "cell_type": "markdown",
   "metadata": {},
   "source": [
    "To import the dataset, first we need to import our prewritten functions from our .py files."
   ]
  },
  {
   "cell_type": "code",
   "execution_count": 2,
   "metadata": {},
   "outputs": [],
   "source": [
    "import src.mc_functions as mcf"
   ]
  },
  {
   "cell_type": "markdown",
   "metadata": {},
   "source": [
    "### Data Initialization"
   ]
  },
  {
   "cell_type": "markdown",
   "metadata": {},
   "source": [
    "Now that we have access to our functions, we can begin importing the data. To start we will import the following columns from the ACS database and store it in the wa_df variable (Washington DataFrame)\n",
    "- serialno: Serial Number\n",
    "- puma: Public Use Microdata Area code\n",
    "- pwgtp: Weight of given observation\n",
    "- agep: Age of individual\n",
    "- sch: School status of individual\n",
    "- esr: Work status of individual\n",
    "\n",
    "Since we defined Opportunity Youth as any indiviudal between the ages of 16 and 24, we will filter the initial SQL query to only include that age range."
   ]
  },
  {
   "cell_type": "code",
   "execution_count": 3,
   "metadata": {},
   "outputs": [],
   "source": [
    "wa_df = mcf.data_import()"
   ]
  },
  {
   "cell_type": "markdown",
   "metadata": {},
   "source": [
    "The data is now imported and stored in the wa_df variable. It's important to note at this point that the dataframe contains information on individuals between the ages of 16 and 24 in all of Washington, not just South King County. We will filter the data more further along in our analysis. For now, we can make sure our dataframe looks correct."
   ]
  },
  {
   "cell_type": "code",
   "execution_count": 4,
   "metadata": {},
   "outputs": [
    {
     "data": {
      "text/html": [
       "<div>\n",
       "<style scoped>\n",
       "    .dataframe tbody tr th:only-of-type {\n",
       "        vertical-align: middle;\n",
       "    }\n",
       "\n",
       "    .dataframe tbody tr th {\n",
       "        vertical-align: top;\n",
       "    }\n",
       "\n",
       "    .dataframe thead th {\n",
       "        text-align: right;\n",
       "    }\n",
       "</style>\n",
       "<table border=\"1\" class=\"dataframe\">\n",
       "  <thead>\n",
       "    <tr style=\"text-align: right;\">\n",
       "      <th></th>\n",
       "      <th>serialno</th>\n",
       "      <th>puma</th>\n",
       "      <th>pwgtp</th>\n",
       "      <th>agep</th>\n",
       "      <th>sch</th>\n",
       "      <th>esr</th>\n",
       "    </tr>\n",
       "  </thead>\n",
       "  <tbody>\n",
       "    <tr>\n",
       "      <th>0</th>\n",
       "      <td>2013000000038</td>\n",
       "      <td>11505</td>\n",
       "      <td>7.0</td>\n",
       "      <td>18.0</td>\n",
       "      <td>2</td>\n",
       "      <td>6</td>\n",
       "    </tr>\n",
       "    <tr>\n",
       "      <th>1</th>\n",
       "      <td>2013000000117</td>\n",
       "      <td>10300</td>\n",
       "      <td>10.0</td>\n",
       "      <td>17.0</td>\n",
       "      <td>2</td>\n",
       "      <td>6</td>\n",
       "    </tr>\n",
       "    <tr>\n",
       "      <th>2</th>\n",
       "      <td>2013000000181</td>\n",
       "      <td>11801</td>\n",
       "      <td>16.0</td>\n",
       "      <td>17.0</td>\n",
       "      <td>1</td>\n",
       "      <td>3</td>\n",
       "    </tr>\n",
       "    <tr>\n",
       "      <th>3</th>\n",
       "      <td>2013000000410</td>\n",
       "      <td>10100</td>\n",
       "      <td>14.0</td>\n",
       "      <td>21.0</td>\n",
       "      <td>2</td>\n",
       "      <td>6</td>\n",
       "    </tr>\n",
       "    <tr>\n",
       "      <th>4</th>\n",
       "      <td>2013000000664</td>\n",
       "      <td>10800</td>\n",
       "      <td>20.0</td>\n",
       "      <td>23.0</td>\n",
       "      <td>1</td>\n",
       "      <td>1</td>\n",
       "    </tr>\n",
       "  </tbody>\n",
       "</table>\n",
       "</div>"
      ],
      "text/plain": [
       "        serialno   puma  pwgtp  agep sch esr\n",
       "0  2013000000038  11505    7.0  18.0   2   6\n",
       "1  2013000000117  10300   10.0  17.0   2   6\n",
       "2  2013000000181  11801   16.0  17.0   1   3\n",
       "3  2013000000410  10100   14.0  21.0   2   6\n",
       "4  2013000000664  10800   20.0  23.0   1   1"
      ]
     },
     "execution_count": 4,
     "metadata": {},
     "output_type": "execute_result"
    }
   ],
   "source": [
    "wa_df.head()"
   ]
  },
  {
   "cell_type": "markdown",
   "metadata": {},
   "source": [
    "We have all the columns we wanted, now we can check for any missing data in our dataframe."
   ]
  },
  {
   "cell_type": "code",
   "execution_count": 5,
   "metadata": {},
   "outputs": [
    {
     "name": "stdout",
     "output_type": "stream",
     "text": [
      "<class 'pandas.core.frame.DataFrame'>\n",
      "RangeIndex: 38170 entries, 0 to 38169\n",
      "Data columns (total 6 columns):\n",
      " #   Column    Non-Null Count  Dtype  \n",
      "---  ------    --------------  -----  \n",
      " 0   serialno  38170 non-null  object \n",
      " 1   puma      38170 non-null  object \n",
      " 2   pwgtp     38170 non-null  float64\n",
      " 3   agep      38170 non-null  float64\n",
      " 4   sch       38170 non-null  object \n",
      " 5   esr       38170 non-null  object \n",
      "dtypes: float64(2), object(4)\n",
      "memory usage: 1.7+ MB\n"
     ]
    }
   ],
   "source": [
    "wa_df.info()"
   ]
  },
  {
   "cell_type": "markdown",
   "metadata": {},
   "source": [
    "No missing data. The next step is to create a new dataframe that contains only those considered Opportunity Youth. To reiterate our Opportunity Youth definition from earlier, it's any individual between the ages of 16 and 24 who is not in school and is unemployed or not in the labor force. Since we only selected those in the 16-24 age range, we now just need to focus on school status and work status. The 'sch' column contains information on schooling status. When 'sch' is equal to '1' it means the individual is not in school. The 'esr' column contains information on work status. When 'esr' is equal to '3' it means the indiviudal is unemployed, when it equals '6' it means the individual is not in the labor force. We have a predefined function that sifts through the data and selects only those who meet those conditions."
   ]
  },
  {
   "cell_type": "code",
   "execution_count": 6,
   "metadata": {},
   "outputs": [],
   "source": [
    "oy_df = mcf.oy_df(wa_df)"
   ]
  },
  {
   "cell_type": "markdown",
   "metadata": {},
   "source": [
    "Okay now we have a dataframe that contains only those considered Opportunity Youth (again, in all of Washington). Let's make sure the dataframe is correct."
   ]
  },
  {
   "cell_type": "code",
   "execution_count": 7,
   "metadata": {},
   "outputs": [
    {
     "data": {
      "text/html": [
       "<div>\n",
       "<style scoped>\n",
       "    .dataframe tbody tr th:only-of-type {\n",
       "        vertical-align: middle;\n",
       "    }\n",
       "\n",
       "    .dataframe tbody tr th {\n",
       "        vertical-align: top;\n",
       "    }\n",
       "\n",
       "    .dataframe thead th {\n",
       "        text-align: right;\n",
       "    }\n",
       "</style>\n",
       "<table border=\"1\" class=\"dataframe\">\n",
       "  <thead>\n",
       "    <tr style=\"text-align: right;\">\n",
       "      <th></th>\n",
       "      <th>serialno</th>\n",
       "      <th>puma</th>\n",
       "      <th>pwgtp</th>\n",
       "      <th>agep</th>\n",
       "      <th>sch</th>\n",
       "      <th>esr</th>\n",
       "    </tr>\n",
       "  </thead>\n",
       "  <tbody>\n",
       "    <tr>\n",
       "      <th>2</th>\n",
       "      <td>2013000000181</td>\n",
       "      <td>11801</td>\n",
       "      <td>16.0</td>\n",
       "      <td>17.0</td>\n",
       "      <td>1</td>\n",
       "      <td>3</td>\n",
       "    </tr>\n",
       "    <tr>\n",
       "      <th>14</th>\n",
       "      <td>2013000002946</td>\n",
       "      <td>10901</td>\n",
       "      <td>6.0</td>\n",
       "      <td>22.0</td>\n",
       "      <td>1</td>\n",
       "      <td>6</td>\n",
       "    </tr>\n",
       "    <tr>\n",
       "      <th>22</th>\n",
       "      <td>2013000003687</td>\n",
       "      <td>11505</td>\n",
       "      <td>5.0</td>\n",
       "      <td>22.0</td>\n",
       "      <td>1</td>\n",
       "      <td>3</td>\n",
       "    </tr>\n",
       "    <tr>\n",
       "      <th>24</th>\n",
       "      <td>2013000003767</td>\n",
       "      <td>11801</td>\n",
       "      <td>32.0</td>\n",
       "      <td>19.0</td>\n",
       "      <td>1</td>\n",
       "      <td>3</td>\n",
       "    </tr>\n",
       "    <tr>\n",
       "      <th>34</th>\n",
       "      <td>2013000007602</td>\n",
       "      <td>11801</td>\n",
       "      <td>14.0</td>\n",
       "      <td>21.0</td>\n",
       "      <td>1</td>\n",
       "      <td>3</td>\n",
       "    </tr>\n",
       "  </tbody>\n",
       "</table>\n",
       "</div>"
      ],
      "text/plain": [
       "         serialno   puma  pwgtp  agep sch esr\n",
       "2   2013000000181  11801   16.0  17.0   1   3\n",
       "14  2013000002946  10901    6.0  22.0   1   6\n",
       "22  2013000003687  11505    5.0  22.0   1   3\n",
       "24  2013000003767  11801   32.0  19.0   1   3\n",
       "34  2013000007602  11801   14.0  21.0   1   3"
      ]
     },
     "execution_count": 7,
     "metadata": {},
     "output_type": "execute_result"
    }
   ],
   "source": [
    "oy_df.head()"
   ]
  },
  {
   "cell_type": "markdown",
   "metadata": {},
   "source": [
    "Once again all the columns look correct, now we can check for any missing data."
   ]
  },
  {
   "cell_type": "code",
   "execution_count": 8,
   "metadata": {},
   "outputs": [
    {
     "name": "stdout",
     "output_type": "stream",
     "text": [
      "<class 'pandas.core.frame.DataFrame'>\n",
      "Int64Index: 4488 entries, 2 to 38153\n",
      "Data columns (total 6 columns):\n",
      " #   Column    Non-Null Count  Dtype  \n",
      "---  ------    --------------  -----  \n",
      " 0   serialno  4488 non-null   object \n",
      " 1   puma      4488 non-null   object \n",
      " 2   pwgtp     4488 non-null   float64\n",
      " 3   agep      4488 non-null   float64\n",
      " 4   sch       4488 non-null   object \n",
      " 5   esr       4488 non-null   object \n",
      "dtypes: float64(2), object(4)\n",
      "memory usage: 245.4+ KB\n"
     ]
    }
   ],
   "source": [
    "oy_df.info()"
   ]
  },
  {
   "cell_type": "markdown",
   "metadata": {},
   "source": [
    "No missing data so we can proceed to our data analysis."
   ]
  },
  {
   "cell_type": "markdown",
   "metadata": {},
   "source": [
    "## Data Analysis"
   ]
  },
  {
   "cell_type": "markdown",
   "metadata": {},
   "source": [
    "To begin our analysis specifically for South King County, we first need to designate which PUMA codes are considered King County and South King County. We defined King County as having PUMA codes 11601-11616 and South King County as a subset of that, having PUMA codes 11610-11614."
   ]
  },
  {
   "cell_type": "code",
   "execution_count": 9,
   "metadata": {},
   "outputs": [],
   "source": [
    "# King County PUMA codes 11601-11610\n",
    "kc_pumas = ['11601', '11602', '11603', '11604', '11605', '11606', '11607', \n",
    "'11608', '11609', '11610', '11611', '11612', '11613', '11614', '11615', '11616']\n",
    "# South King County PUMA codes 11610-11614\n",
    "skc_pumas = ['11610', '11611', '11612', '11613', '11614']"
   ]
  },
  {
   "cell_type": "markdown",
   "metadata": {},
   "source": [
    "Now that we have defined the areas considered King County and South King County according to their PUMA codes, we can utilize a prewritten function that creates a dictionary from a given dataframe with the key as PUMA codes and the value as the number of people within each PUMA in that dataframe. "
   ]
  },
  {
   "cell_type": "code",
   "execution_count": 10,
   "metadata": {},
   "outputs": [],
   "source": [
    "# Number of Opportunity Youth in each King County PUMA code\n",
    "kc_oy_per_puma = mcf.create_puma_dict(oy_df, kc_pumas)\n",
    "# Number of Opportunity Youth in each South King County PUMA code\n",
    "skc_oy_per_puma = mcf.create_puma_dict(oy_df, skc_pumas)"
   ]
  },
  {
   "cell_type": "markdown",
   "metadata": {},
   "source": [
    "The dictionary 'skc_oy_per_puma' contains the number of Opportunity Youth within each South King County PUMA. Knowing this, we can sum the values to get the total number of Opportunity Youth in South King County."
   ]
  },
  {
   "cell_type": "code",
   "execution_count": 11,
   "metadata": {},
   "outputs": [
    {
     "name": "stdout",
     "output_type": "stream",
     "text": [
      "There are estimated to be 9404 Opportunity Youth in South King County\n"
     ]
    }
   ],
   "source": [
    "oy_skc = sum(skc_oy_per_puma.values())\n",
    "print('There are estimated to be {} Opportunity Youth in South King County'.format(int(oy_skc)))"
   ]
  },
  {
   "cell_type": "markdown",
   "metadata": {},
   "source": [
    "In order to give some context to that number, we can find the estimated number of Opportunity Youth in all of King County using the same strategy as above."
   ]
  },
  {
   "cell_type": "code",
   "execution_count": 12,
   "metadata": {},
   "outputs": [
    {
     "name": "stdout",
     "output_type": "stream",
     "text": [
      "There are estimated to be 19984 Opportunity Youth in King County\n"
     ]
    }
   ],
   "source": [
    "oy_kc = sum(kc_oy_per_puma.values())\n",
    "print('There are estimated to be {} Opportunity Youth in King County'.format(int(oy_kc)))"
   ]
  },
  {
   "cell_type": "markdown",
   "metadata": {},
   "source": [
    "Now that we have the important finding's, let's visualize these to get a better idea of the situation."
   ]
  },
  {
   "cell_type": "markdown",
   "metadata": {},
   "source": [
    "## Visualization 1 - Opportunity Youth by PUMA code"
   ]
  },
  {
   "cell_type": "markdown",
   "metadata": {},
   "source": [
    "The first visual we would like to do is the number of Opportunity Youth in King County by PUMA code. To do this, we can utilize a function that creates a bar plot from a dictionary and a list of labels. In this case we will use the dictionary we created earlier that has the number of Opportunity Youth in King County by PUMA code. How convenient is that. This plotting function also allows us to highlight a specific list of PUMA codes. To get as much out of the plot, we will highlight the PUMA codes in South King County."
   ]
  },
  {
   "cell_type": "code",
   "execution_count": 13,
   "metadata": {
    "scrolled": true
   },
   "outputs": [
    {
     "name": "stderr",
     "output_type": "stream",
     "text": [
      "/Users/chamindamapa/Documents/01 - Flatiron School/03 - Git Repos/module_1/week_3/mod-1-project-chicago-seattle-ds-051120/src/mc_functions.py:140: MatplotlibDeprecationWarning: Unrecognized location '0'. Falling back on 'best'; valid locations are\n",
      "\tbest\n",
      "\tupper right\n",
      "\tupper left\n",
      "\tlower left\n",
      "\tlower right\n",
      "\tright\n",
      "\tcenter left\n",
      "\tcenter right\n",
      "\tlower center\n",
      "\tupper center\n",
      "\tcenter\n",
      "This will raise an exception in 3.3.\n",
      "  splot.legend(n, labels, loc='0', fontsize=18);\n"
     ]
    },
    {
     "data": {
      "image/png": "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\n",
      "text/plain": [
       "<Figure size 1080x720 with 1 Axes>"
      ]
     },
     "metadata": {},
     "output_type": "display_data"
    }
   ],
   "source": [
    "# Create list of labels\n",
    "labels_list = [\n",
    "    'Number of Opportunity Youth By PUMA in King County',\n",
    "    'PUMA Code',\n",
    "    'Number of Opportunity Youth'\n",
    "]\n",
    "mcf.create_plot_from_dict(kc_oy_per_puma, labels_list, skc_pumas)"
   ]
  },
  {
   "cell_type": "markdown",
   "metadata": {},
   "source": [
    "It's very clear from the plot above that the PUMA codes in South King County have more individuals considered Opportunity Youth than other areas within King County. It's important to note however, that since the total population of those between the ages of 16 and 24 in each PUMA is not consisent, that an absolute measurement is probably not the most accurate representation of that information. Instead, let's try to represent this information as a relative measurement, visualizing the percentage of the population age 16 to 24 who is considered Opportunity Youth within each PUMA code."
   ]
  },
  {
   "cell_type": "markdown",
   "metadata": {},
   "source": [
    "To do this, we can utilize the same function to plot as above but we will need to create some data for it to graph first. So we want to create a dictionary that contains the population between the ages of 16 and 24 for each PUMA, and from there we can create a dictionary with percentage of that population considered Opportunity Youth for each PUMA. Since this first dictionary is looking at the entire population between the ages of 16 and 24 and not solely Opportunity Youth, we will use the dataframe wa_df."
   ]
  },
  {
   "cell_type": "code",
   "execution_count": 14,
   "metadata": {},
   "outputs": [],
   "source": [
    "kc_pop_per_puma = mcf.create_puma_dict(wa_df, kc_pumas)"
   ]
  },
  {
   "cell_type": "markdown",
   "metadata": {},
   "source": [
    "Now that we have that, we can create a dictionary with the percentage of 16-24 year olds in the total population considered Opportunity Youth"
   ]
  },
  {
   "cell_type": "code",
   "execution_count": 15,
   "metadata": {},
   "outputs": [],
   "source": [
    "kc_percent_oy = {k: ((kc_oy_per_puma[k]/kc_pop_per_puma[k]) * 100) for k in kc_pop_per_puma.keys()} "
   ]
  },
  {
   "cell_type": "markdown",
   "metadata": {},
   "source": [
    "Before we plot this information the last thing to do is to sort this data by its values."
   ]
  },
  {
   "cell_type": "code",
   "execution_count": 16,
   "metadata": {},
   "outputs": [],
   "source": [
    "kc_percent_oy_sorted = {k:v for k,v in sorted(kc_percent_oy.items(), key=lambda x: x[1])}"
   ]
  },
  {
   "cell_type": "markdown",
   "metadata": {},
   "source": [
    "We now have a dictionary of the percent of the population between ages 16 and 24 who are considered Opportunity Youth sorted and with corresponding PUMA codes. It's now time to plot this data."
   ]
  },
  {
   "cell_type": "code",
   "execution_count": 17,
   "metadata": {},
   "outputs": [
    {
     "name": "stderr",
     "output_type": "stream",
     "text": [
      "/Users/chamindamapa/Documents/01 - Flatiron School/03 - Git Repos/module_1/week_3/mod-1-project-chicago-seattle-ds-051120/src/mc_functions.py:140: MatplotlibDeprecationWarning: Unrecognized location '0'. Falling back on 'best'; valid locations are\n",
      "\tbest\n",
      "\tupper right\n",
      "\tupper left\n",
      "\tlower left\n",
      "\tlower right\n",
      "\tright\n",
      "\tcenter left\n",
      "\tcenter right\n",
      "\tlower center\n",
      "\tupper center\n",
      "\tcenter\n",
      "This will raise an exception in 3.3.\n",
      "  splot.legend(n, labels, loc='0', fontsize=18);\n"
     ]
    },
    {
     "data": {
      "image/png": "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\n",
      "text/plain": [
       "<Figure size 1080x720 with 1 Axes>"
      ]
     },
     "metadata": {},
     "output_type": "display_data"
    }
   ],
   "source": [
    "labels_list2 = [\n",
    "    '% of Population Age 16-24 Considered Opportunity Youth',\n",
    "    'Puma Code',\n",
    "    '% of Opportunity Youth'\n",
    "]\n",
    "mcf.create_plot_from_dict(kc_percent_oy_sorted, labels_list2, skc_pumas)"
   ]
  },
  {
   "cell_type": "markdown",
   "metadata": {},
   "source": [
    "It's clear from the graph above that the PUMA codes in South King County have the largest percentage of Opportunity Youth in there given population."
   ]
  },
  {
   "cell_type": "markdown",
   "metadata": {},
   "source": [
    "-------------------------"
   ]
  },
  {
   "cell_type": "markdown",
   "metadata": {},
   "source": [
    "## Opportunity Youth by Age"
   ]
  },
  {
   "cell_type": "markdown",
   "metadata": {},
   "source": [
    "### FUNCTIONS\n",
    "These functions support the data cleaning, collection and analysis of the data."
   ]
  },
  {
   "cell_type": "markdown",
   "metadata": {},
   "source": [
    "#### Percentage Calulation\n",
    "When called this function will convert data into percentages of the total sum"
   ]
  },
  {
   "cell_type": "code",
   "execution_count": 18,
   "metadata": {},
   "outputs": [],
   "source": [
    "def calc_percent (one, two, three, arg_sum, tot1, tot2, tot3, tot_sum):\n",
    "    per_list = []\n",
    "    per1 = (one/tot1)*100\n",
    "    per_list.append(round(per1))\n",
    "    per2 = (two/tot2)*100\n",
    "    per_list.append(round(per2))\n",
    "    per3 = (three/tot3)*100\n",
    "    per_list.append(round(per3))\n",
    "    tot_per = (arg_sum/tot_sum)*100\n",
    "    per_list.append(round(tot_per))\n",
    "    return per_list"
   ]
  },
  {
   "cell_type": "markdown",
   "metadata": {},
   "source": [
    "#### Populations\n",
    "When called this function will group and sum the population by the weighted number"
   ]
  },
  {
   "cell_type": "code",
   "execution_count": null,
   "metadata": {},
   "outputs": [],
   "source": [
    "def oy_pop (df_arg):\n",
    "    df_oy = df_arg.groupby(['esr']).sum()\n",
    "    oy = df_oy.at['3','pwgtp'] + df_oy.at['6','pwgtp']\n",
    "    return oy"
   ]
  },
  {
   "cell_type": "markdown",
   "metadata": {},
   "source": [
    "#### Creating the Visualization\n",
    "This function creates the clustered and stacked bar plot later in the report"
   ]
  },
  {
   "cell_type": "code",
   "execution_count": 65,
   "metadata": {},
   "outputs": [],
   "source": [
    "def plot_clustered_stacked(dfall, labels=None, title=\"\"):\n",
    "\n",
    "    n_df = len(dfall)\n",
    "    n_col = len(dfall[0].columns) \n",
    "    n_ind = len(dfall[0].index)\n",
    "    new_figure = plt.figure(figsize=(12,8))\n",
    "    axe = new_figure.add_subplot(111)\n",
    "    N=3\n",
    "    ind = np.arange(N)\n",
    "    new_figure.suptitle('Opportunity Youth Education by Age Group', fontname=\"Arial Black\", fontsize=36,fontweight='bold')\n",
    "    \n",
    "    for df in dfall:\n",
    "        totals = [i+j+k+l for i,j,k,l in zip(df['No diploma'], df['HS diploma or GED'], df['Some college, no degree'], df['Degree, Associate or higher'])]\n",
    "        oyndBars = [i / j * 100 for i,j in zip(df['No diploma'], totals)]\n",
    "        oydGEDBars = [i / j * 100 for i,j in zip(df['HS diploma or GED'], totals)]\n",
    "        oyscndBars = [i / j * 100 for i,j in zip(df['Some college, no degree'], totals)]\n",
    "        oydegBars = [i / j * 100 for i,j in zip(df['Degree, Associate or higher'], totals)]\n",
    "        age_grps = np.array(['16-18','19-21','22-24'])\n",
    "        names = list(age_grps)\n",
    "        barWidth = 0.35 \n",
    "        # No diploma bar\n",
    "        axe.bar(ind, oyndBars, color='#1D3557', edgecolor='black', width=barWidth)\n",
    "        # HS diploma bar\n",
    "        axe.bar(ind, oydGEDBars, bottom=oyndBars, color='#A8DADC', edgecolor='black', width=barWidth)\n",
    "        # Some college bar\n",
    "        axe.bar(ind, oyscndBars, bottom=[i+j for i,j in zip(oyndBars, oydGEDBars)], color='#457B9D', edgecolor='black', width=barWidth)\n",
    "        # Degree bar\n",
    "        axe.bar(ind, oydegBars, bottom=[i+j+k for i,j,k in zip(oyndBars, oydGEDBars, oyscndBars)], color='#F1FAEE', edgecolor='black', width=barWidth)\n",
    "        ind=ind + barWidth\n",
    "\n",
    "    leg_labels = ['No diploma','HS diploma or GED', 'Some college, no degree', 'Degree, Associate or higher']\n",
    "    axe.legend(leg_labels,loc=2)\n",
    "        \n",
    "    h,l = axe.get_legend_handles_labels() # get the handles we want to modify\n",
    "    for i in range(0, n_df * n_col, n_col): # len(h) = n_col * n_df\n",
    "        for j, pa in enumerate(h[i:i+n_col]):\n",
    "            for rect in pa.patches: # for each index\n",
    "                rect.set_x(rect.get_x() + 1 / float(n_df + 1) * i / float(n_col))\n",
    "                rect.set_hatch(H * int(i / n_col)) #edited part     \n",
    "                rect.set_width(1 / float(n_df + 1))\n",
    "\n",
    "    axe.set_xticks((np.arange(0, 2 * n_ind, 2) + 1 / float(n_df + 1)) / 2.)\n",
    "    axe.set_xticklabels(df.index, rotation = 0)\n",
    "    axe.set_title(title,fontsize=16)\n",
    "\n",
    "    # Add invisible data to add another legend\n",
    "    n=[]\n",
    "    colorBar=['#1D3557','#A8DADC','#457B9D','#F1FAEE']\n",
    "    for i in range(0,4):\n",
    "        n.append(axe.bar(0, 0, color=colorBar[i]))\n",
    "        l2 = plt.legend(n, leg_labels, bbox_to_anchor=(1.0, 0.5, 0.3, 0.2),loc=2, fontsize=14,labelspacing=-2.5,frameon=False) \n",
    "    axe.set_ylim(0,100)\n",
    "    axe.set_xticklabels(names,fontsize=18)\n",
    "    axe.set_xlabel(\"Age Groups\",fontsize=20,fontweight='bold')\n",
    "    axe.set_ylabel(\"% of Opportunity Youth\",fontsize=20,fontweight='bold')\n",
    "    axe.text(-0.07, 101, \"2014\", fontsize=16)\n",
    "    axe.text(0.25, 101, \"2017\", fontsize=16)\n",
    "    axe.text(0.925, 101, \"2014\", fontsize=16)\n",
    "    axe.text(1.25, 101, \"2017\", fontsize=16)\n",
    "    axe.text(1.925, 101, \"2014\", fontsize=16)\n",
    "    axe.text(2.25, 101, \"2017\", fontsize=16)\n",
    "    new_figure.savefig('../../reports/figures/oy_by_age.png')\n",
    "    return axe\n"
   ]
  },
  {
   "cell_type": "markdown",
   "metadata": {},
   "source": [
    "## Data Initialization\n",
    "\n",
    "Given the definition of opportunity youth and the data needed for the table we will need to filter the data as follows: \n",
    "1. Isolate South King County data (PUMA) \n",
    "2. Split the data into the required age groups (agep) \n",
    "3. Identify the Opportunity Youth within that dataset (sch and esr) \n",
    "4. Breakdown the educational background of the Opportunity Youth (schl) \n",
    "5. Use the weight column (pwgtp) to get the estimated # of people for each category in the table."
   ]
  },
  {
   "cell_type": "markdown",
   "metadata": {},
   "source": [
    "We would like to first understand what the data looks like in the columns of note"
   ]
  },
  {
   "cell_type": "code",
   "execution_count": 36,
   "metadata": {},
   "outputs": [],
   "source": [
    "df = pd.read_sql(\n",
    "    \"\"\"\n",
    "    SELECT agep, sch, schl, wkl, wrk, esr, pwgtp, puma\n",
    "    FROM pums_2017\n",
    "    WHERE puma IN ('11610','11611','11612','11613','11614')\n",
    "    AND agep >= 16.0\n",
    "    AND agep <= 18.0\n",
    "    ORDER BY agep\n",
    "    \"\"\"\n",
    ", conn)"
   ]
  },
  {
   "cell_type": "code",
   "execution_count": 24,
   "metadata": {},
   "outputs": [
    {
     "name": "stdout",
     "output_type": "stream",
     "text": [
      "<class 'pandas.core.frame.DataFrame'>\n",
      "RangeIndex: 1054 entries, 0 to 1053\n",
      "Data columns (total 8 columns):\n",
      " #   Column  Non-Null Count  Dtype  \n",
      "---  ------  --------------  -----  \n",
      " 0   agep    1054 non-null   float64\n",
      " 1   sch     1054 non-null   object \n",
      " 2   schl    1054 non-null   object \n",
      " 3   wkl     1054 non-null   object \n",
      " 4   wrk     931 non-null    object \n",
      " 5   esr     1054 non-null   object \n",
      " 6   pwgtp   1054 non-null   float64\n",
      " 7   puma    1054 non-null   object \n",
      "dtypes: float64(2), object(6)\n",
      "memory usage: 66.0+ KB\n"
     ]
    }
   ],
   "source": [
    "df.info()"
   ]
  },
  {
   "cell_type": "markdown",
   "metadata": {},
   "source": [
    "#### Filtering Data by Age Group and Location\n",
    "\n",
    "We need to split the data up by South King County and the age groups identified in the table: 16-18, 19-21, and 22-24."
   ]
  },
  {
   "cell_type": "code",
   "execution_count": 35,
   "metadata": {},
   "outputs": [],
   "source": [
    "# 16-18\n",
    "df1 = pd.read_sql(\n",
    "    \"\"\"\n",
    "    SELECT agep, sch, schl, wkl, wrk, esr, pwgtp, puma\n",
    "    FROM pums_2017\n",
    "    WHERE puma IN ('11610','11611','11612','11613','11614')\n",
    "    AND agep >= 16.0\n",
    "    AND agep <= 18.0\n",
    "    ORDER BY agep\n",
    "    \"\"\"\n",
    ", conn)"
   ]
  },
  {
   "cell_type": "code",
   "execution_count": 34,
   "metadata": {},
   "outputs": [],
   "source": [
    "# 19-21\n",
    "df2 = pd.read_sql(\n",
    "    \"\"\"\n",
    "    SELECT agep, sch, schl, wkl, wrk, esr, pwgtp, puma\n",
    "    FROM pums_2017\n",
    "    WHERE puma IN ('11610','11611','11612','11613','11614')\n",
    "    AND agep >= 19.0\n",
    "    AND agep <= 21.0\n",
    "    ORDER BY agep\n",
    "    \"\"\"\n",
    ", conn)"
   ]
  },
  {
   "cell_type": "code",
   "execution_count": 33,
   "metadata": {},
   "outputs": [],
   "source": [
    "# 22-24\n",
    "df3 = pd.read_sql(\n",
    "    \"\"\"\n",
    "    SELECT agep, sch, schl, wkl, wrk, esr, pwgtp, puma\n",
    "    FROM pums_2017\n",
    "    WHERE puma IN ('11610','11611','11612','11613','11614')\n",
    "    AND agep >= 22.0\n",
    "    AND agep <= 24.0\n",
    "    ORDER BY agep\n",
    "    \"\"\"\n",
    ", conn)"
   ]
  },
  {
   "cell_type": "markdown",
   "metadata": {},
   "source": [
    "#### General Population Totals for Updated Table\n",
    "We need to sum the populations of the age groups to get the total population for the last column of the table."
   ]
  },
  {
   "cell_type": "code",
   "execution_count": 32,
   "metadata": {},
   "outputs": [],
   "source": [
    "# Population of 16-18yo\n",
    "pop1 = df1.pwgtp.sum(axis = 0, skipna = True) \n",
    "# Population of 19-21yo\n",
    "pop2 = df2.pwgtp.sum(axis = 0, skipna = True) \n",
    "# Population of 22-24yo\n",
    "pop3 = df3.pwgtp.sum(axis = 0, skipna = True) \n",
    "# Total Populatio 16-24yo\n",
    "total_pop = pop1 + pop2 + pop3"
   ]
  },
  {
   "cell_type": "markdown",
   "metadata": {},
   "source": [
    "#### School Enrollment\n",
    "* Opportunity Youth are not in school unemployed or not in the labor force\n",
    "* sch will tell us if the youth in our age categories are in school\n",
    "* We can create a dataframe of those not in school for each age group"
   ]
  },
  {
   "cell_type": "code",
   "execution_count": 31,
   "metadata": {},
   "outputs": [],
   "source": [
    "# 16-18 not in school\n",
    "df1_nsch = df1.loc[df1.sch == '1']\n",
    "# 19-21 not in school\n",
    "df2_nsch = df2.loc[df2.sch == '1']\n",
    "# 22-24 not in school\n",
    "df3_nsch = df3.loc[df3.sch == '1']"
   ]
  },
  {
   "cell_type": "markdown",
   "metadata": {},
   "source": [
    "### Find Number of Opportunity Youth\n",
    "- Opportunity Youth are not in school and are unemployed or not in the labor force\n",
    "\n",
    "#### Filter School Enrollment dataFrames by Employment Status (esr) \n",
    "Using the dataframes of people those not in school for each age group we can identify the Opportunity Youth by isolating categories 3 and 6 from the esr column. \n",
    "\n",
    "- esr - Employment status recode \n",
    "- 1.Civilian employed, at work \n",
    "- 2.Civilian employed, with a job but not at work \n",
    "- 3.Unemployed \n",
    "- 4.Armed forces, at work \n",
    "- 5.Armed forces, with a job but not at work \n",
    "- 6.Not in labor force"
   ]
  },
  {
   "cell_type": "code",
   "execution_count": 38,
   "metadata": {},
   "outputs": [],
   "source": [
    "oy1 = oy_pop(df1_nsch)\n",
    "oy2 = oy_pop(df2_nsch)\n",
    "oy3 = oy_pop(df3_nsch)\n",
    "total_oy = oy1 + oy2 + oy3"
   ]
  },
  {
   "cell_type": "markdown",
   "metadata": {},
   "source": [
    "#### Working Without Diploma\n",
    "\n",
    "Need to find those working without a diploma within each age group for the table."
   ]
  },
  {
   "cell_type": "markdown",
   "metadata": {},
   "source": [
    "#### Make dataframes that filter out people with diplomas (schl)\n",
    "- schl 01 to 15 is the subset without a diploma\n",
    "\n",
    "schl details: Educational attainmentbb. N/A (less than 3 years old)01.No schooling completed 02.Nursery school, preschool 03.Kindergarten 04.Grade 1 05.Grade 2 06.Grade 3 07.Grade 4 08.Grade 5 09.Grade 6 10.Grade 7 11.Grade 8 12.Grade 9 13.Grade 10 14.Grade 11 15.12th grade -no diploma 16.Regular high school diploma 17.GED or alternative credential 18.Some college, but less than 1 year 19.1 or more years of college credit, no degree 20.Associate's degree 21.Bachelor's degree 22.Master's degree 23.Professional degree beyond a bachelor's degree 24.Doctorate degree"
   ]
  },
  {
   "cell_type": "code",
   "execution_count": 39,
   "metadata": {},
   "outputs": [],
   "source": [
    "# 16-18\n",
    "df1_schl = pd.read_sql(\n",
    "    \"\"\"\n",
    "    SELECT agep, sch, schl, wkl, wrk, esr, pwgtp, puma\n",
    "    FROM pums_2017\n",
    "    WHERE puma IN ('11610','11611','11612','11613','11614')\n",
    "    AND schl IN ('01','02','03','04','05','06','07','08','09','10','11','12','13','14','15')\n",
    "    AND sch = '1'\n",
    "    AND agep >= 16.0\n",
    "    AND agep <= 18.0\n",
    "    ORDER BY agep\n",
    "    \"\"\"\n",
    ", conn)"
   ]
  },
  {
   "cell_type": "code",
   "execution_count": 40,
   "metadata": {},
   "outputs": [],
   "source": [
    "# 19-21\n",
    "df2_schl = pd.read_sql(\n",
    "    \"\"\"\n",
    "    SELECT agep, sch, schl, wkl, wrk, esr, pwgtp, puma\n",
    "    FROM pums_2017\n",
    "    WHERE puma IN ('11610','11611','11612','11613','11614')\n",
    "    AND schl IN ('01','02','03','04','05','06','07','08','09','10','11','12','13','14','15')\n",
    "    AND sch = '1'\n",
    "    AND agep >= 19.0\n",
    "    AND agep <= 21.0\n",
    "    ORDER BY agep\n",
    "    \"\"\"\n",
    ", conn)"
   ]
  },
  {
   "cell_type": "code",
   "execution_count": 41,
   "metadata": {},
   "outputs": [],
   "source": [
    "# 22-24\n",
    "df3_schl = pd.read_sql(\n",
    "    \"\"\"\n",
    "    SELECT agep, sch, schl, wkl, wrk, esr, pwgtp, puma\n",
    "    FROM pums_2017\n",
    "    WHERE puma IN ('11610','11611','11612','11613','11614')\n",
    "    AND schl IN ('01','02','03','04','05','06','07','08','09','10','11','12','13','14','15')\n",
    "    AND sch = '1'\n",
    "    AND agep >= 22.0\n",
    "    AND agep <= 24.0\n",
    "    ORDER BY agep\n",
    "    \"\"\"\n",
    ", conn)"
   ]
  },
  {
   "cell_type": "markdown",
   "metadata": {},
   "source": [
    "Now we can find the sum of people in each age group working without a diploma: "
   ]
  },
  {
   "cell_type": "code",
   "execution_count": 42,
   "metadata": {},
   "outputs": [],
   "source": [
    "df1_wwd = df1_schl.groupby(['esr']).sum()\n",
    "df2_wwd = df2_schl.groupby(['esr']).sum()\n",
    "df3_wwd = df3_schl.groupby(['esr']).sum()\n",
    "\n",
    "wwd1 = df1_wwd.at['1','pwgtp']\n",
    "wwd2 = df2_wwd.at['1','pwgtp'] + df2_wwd.at['2','pwgtp']\n",
    "wwd3 = df3_wwd.at['1','pwgtp'] + df3_wwd.at['2','pwgtp'] + df3_wwd.at['4','pwgtp']\n",
    "\n",
    "total_wwd = wwd1 + wwd2 + wwd3"
   ]
  },
  {
   "cell_type": "markdown",
   "metadata": {},
   "source": [
    "### Population that is not Opportunity Youth\n",
    "Need to find the number of people not considered opportunity youth for each age group to populate the table.\n",
    "Just take the difference of the population and opportunity youth:"
   ]
  },
  {
   "cell_type": "code",
   "execution_count": 44,
   "metadata": {},
   "outputs": [],
   "source": [
    "not_oy1= pop1 - oy1 - wwd1\n",
    "not_oy2= pop2 - oy2 - wwd2\n",
    "not_oy3= pop3 - oy3 - wwd3\n",
    "total_not_oy = not_oy1 + not_oy2 + not_oy3"
   ]
  },
  {
   "cell_type": "markdown",
   "metadata": {},
   "source": [
    "#### OY with no diploma\n",
    "Within the Opportunity Youth data, we need to breakdown how many don't have a diploma"
   ]
  },
  {
   "cell_type": "code",
   "execution_count": 45,
   "metadata": {},
   "outputs": [],
   "source": [
    "oynd1 = oy_pop(df1_schl)\n",
    "oynd2 = oy_pop(df2_schl)\n",
    "oynd3 = oy_pop(df3_schl)\n",
    "total_oynd = oynd1 + oynd2 + oynd3"
   ]
  },
  {
   "cell_type": "markdown",
   "metadata": {},
   "source": [
    "#### OY with diploma or GED\n",
    "Within the Opportunity Youth data, we need to breakdown how many have a High School diploma or GED using schl\n",
    "\n",
    "- schl = 16 or 17:\n",
    "\n",
    "schl details: Educational attainmentbb. N/A (less than 3 years old)01.No schooling completed 02.Nursery school, preschool 03.Kindergarten 04.Grade 1 05.Grade 2 06.Grade 3 07.Grade 4 08.Grade 5 09.Grade 6 10.Grade 7 11.Grade 8 12.Grade 9 13.Grade 10 14.Grade 11 15.12th grade -no diploma 16.Regular high school diploma 17.GED or alternative credential 18.Some college, but less than 1 year 19.1 or more years of college credit, no degree 20.Associate's degree 21.Bachelor's degree 22.Master's degree 23.Professional degree beyond a bachelor's degree 24.Doctorate degree\n",
    "\n",
    "Using the same methods above, we will OY by schl responses 16 or 17 and then total them for the table:"
   ]
  },
  {
   "cell_type": "code",
   "execution_count": 46,
   "metadata": {},
   "outputs": [],
   "source": [
    "# 16-18\n",
    "df1_dGED = pd.read_sql(\n",
    "    \"\"\"\n",
    "    SELECT agep, sch, schl, wkl, wrk, esr, pwgtp, puma\n",
    "    FROM pums_2017\n",
    "    WHERE puma IN ('11610','11611','11612','11613','11614')\n",
    "    AND schl IN ('16','17')\n",
    "    AND sch = '1'\n",
    "    AND agep >= 16.0\n",
    "    AND agep <= 18.0\n",
    "    ORDER BY agep\n",
    "    \"\"\"\n",
    ", conn)"
   ]
  },
  {
   "cell_type": "code",
   "execution_count": 47,
   "metadata": {},
   "outputs": [],
   "source": [
    "# 19-21\n",
    "df2_dGED = pd.read_sql(\n",
    "    \"\"\"\n",
    "    SELECT agep, sch, schl, wkl, wrk, esr, pwgtp, puma\n",
    "    FROM pums_2017\n",
    "    WHERE puma IN ('11610','11611','11612','11613','11614')\n",
    "    AND schl IN ('16','17')\n",
    "    AND sch = '1'\n",
    "    AND agep >= 19.0\n",
    "    AND agep <= 21.0\n",
    "    ORDER BY agep\n",
    "    \"\"\"\n",
    ", conn)"
   ]
  },
  {
   "cell_type": "code",
   "execution_count": 48,
   "metadata": {},
   "outputs": [],
   "source": [
    "# 22-24\n",
    "df3_dGED = pd.read_sql(\n",
    "    \"\"\"\n",
    "    SELECT agep, sch, schl, wkl, wrk, esr, pwgtp, puma\n",
    "    FROM pums_2017\n",
    "    WHERE puma IN ('11610','11611','11612','11613','11614')\n",
    "    AND schl IN ('16','17')\n",
    "    AND sch = '1'\n",
    "    AND agep >= 22.0\n",
    "    AND agep <= 24.0\n",
    "    ORDER BY agep\n",
    "    \"\"\"\n",
    ", conn)"
   ]
  },
  {
   "cell_type": "code",
   "execution_count": 49,
   "metadata": {},
   "outputs": [],
   "source": [
    "oydGED1 = oy_pop(df1_dGED)\n",
    "oydGED2 = oy_pop(df2_dGED)\n",
    "oydGED3 = oy_pop(df3_dGED)\n",
    "total_oydGED = oydGED1 + oydGED2 + oydGED3"
   ]
  },
  {
   "cell_type": "markdown",
   "metadata": {},
   "source": [
    "#### OY with some college, no degree\n",
    "Now we use schl responses of 18 and 19 to find those with some college but no degree\n",
    "\n",
    "schl details: Educational attainmentbb. N/A (less than 3 years old)01.No schooling completed 02.Nursery school, preschool 03.Kindergarten 04.Grade 1 05.Grade 2 06.Grade 3 07.Grade 4 08.Grade 5 09.Grade 6 10.Grade 7 11.Grade 8 12.Grade 9 13.Grade 10 14.Grade 11 15.12th grade -no diploma 16.Regular high school diploma 17.GED or alternative credential 18.Some college, but less than 1 year 19.1 or more years of college credit, no degree 20.Associate's degree 21.Bachelor's degree 22.Master's degree 23.Professional degree beyond a bachelor's degree 24.Doctorate degree"
   ]
  },
  {
   "cell_type": "code",
   "execution_count": 51,
   "metadata": {},
   "outputs": [],
   "source": [
    "# 16-18\n",
    "df1_scnd = pd.read_sql(\n",
    "    \"\"\"\n",
    "    SELECT agep, sch, schl, wkl, wrk, esr, pwgtp, puma\n",
    "    FROM pums_2017\n",
    "    WHERE puma IN ('11610','11611','11612','11613','11614')\n",
    "    AND schl IN ('18','19')\n",
    "    AND sch = '1'\n",
    "    AND agep >= 16.0\n",
    "    AND agep <= 18.0\n",
    "    ORDER BY agep\n",
    "    \"\"\"\n",
    ", conn)"
   ]
  },
  {
   "cell_type": "code",
   "execution_count": 52,
   "metadata": {},
   "outputs": [],
   "source": [
    "# 19-21\n",
    "df2_scnd = pd.read_sql(\n",
    "    \"\"\"\n",
    "    SELECT agep, sch, schl, wkl, wrk, esr, pwgtp, puma\n",
    "    FROM pums_2017\n",
    "    WHERE puma IN ('11610','11611','11612','11613','11614')\n",
    "    AND schl IN ('18','19')\n",
    "    AND sch = '1'\n",
    "    AND agep >= 19.0\n",
    "    AND agep <= 21.0\n",
    "    ORDER BY agep\n",
    "    \"\"\"\n",
    ", conn)"
   ]
  },
  {
   "cell_type": "code",
   "execution_count": 53,
   "metadata": {},
   "outputs": [],
   "source": [
    "# 22-24\n",
    "df3_scnd = pd.read_sql(\n",
    "    \"\"\"\n",
    "    SELECT agep, sch, schl, wkl, wrk, esr, pwgtp, puma\n",
    "    FROM pums_2017\n",
    "    WHERE puma IN ('11610','11611','11612','11613','11614')\n",
    "    AND schl IN ('18','19')\n",
    "    AND sch = '1'\n",
    "    AND agep >= 22.0\n",
    "    AND agep <= 24.0\n",
    "    ORDER BY agep\n",
    "    \"\"\"\n",
    ", conn)"
   ]
  },
  {
   "cell_type": "code",
   "execution_count": 54,
   "metadata": {},
   "outputs": [],
   "source": [
    "oyscnd1 = oy_pop(df1_scnd)\n",
    "oyscnd2 = oy_pop(df2_scnd)\n",
    "oyscnd3 = oy_pop(df3_scnd)\n",
    "total_oyscnd = oyscnd1 + oyscnd2 + oyscnd3"
   ]
  },
  {
   "cell_type": "markdown",
   "metadata": {},
   "source": [
    "#### OY with degree (Associate or higher)\n",
    "Lastly, we use schl to identify Opportunity Youth who have a Associates degree or higher using the same process:\n",
    "\n",
    "- schl = 20 to 24\n",
    "\n",
    "schl details: Educational attainmentbb. N/A (less than 3 years old)01.No schooling completed 02.Nursery school, preschool 03.Kindergarten 04.Grade 1 05.Grade 2 06.Grade 3 07.Grade 4 08.Grade 5 09.Grade 6 10.Grade 7 11.Grade 8 12.Grade 9 13.Grade 10 14.Grade 11 15.12th grade -no diploma 16.Regular high school diploma 17.GED or alternative credential 18.Some college, but less than 1 year 19.1 or more years of college credit, no degree 20.Associate's degree 21.Bachelor's degree 22.Master's degree 23.Professional degree beyond a bachelor's degree 24.Doctorate degree"
   ]
  },
  {
   "cell_type": "code",
   "execution_count": 55,
   "metadata": {},
   "outputs": [],
   "source": [
    "df1_deg = pd.read_sql(\n",
    "    \"\"\"\n",
    "    SELECT agep, sch, schl, wkl, wrk, esr, pwgtp, puma\n",
    "    FROM pums_2017\n",
    "    WHERE puma IN ('11610','11611','11612','11613','11614')\n",
    "    AND schl IN ('20','21','22','23','24')\n",
    "    AND sch = '1'\n",
    "    AND agep >= 16.0\n",
    "    AND agep <= 18.0\n",
    "    ORDER BY agep\n",
    "    \"\"\"\n",
    ", conn)"
   ]
  },
  {
   "cell_type": "code",
   "execution_count": 56,
   "metadata": {},
   "outputs": [],
   "source": [
    "# 19-21\n",
    "df2_deg = pd.read_sql(\n",
    "    \"\"\"\n",
    "    SELECT agep, sch, schl, wkl, wrk, esr, pwgtp, puma\n",
    "    FROM pums_2017\n",
    "    WHERE puma IN ('11610','11611','11612','11613','11614')\n",
    "    AND schl IN ('20','21','22','23','24')\n",
    "    AND sch = '1'\n",
    "    AND agep >= 19.0\n",
    "    AND agep <= 21.0\n",
    "    ORDER BY agep\n",
    "    \"\"\"\n",
    ", conn)"
   ]
  },
  {
   "cell_type": "code",
   "execution_count": 57,
   "metadata": {},
   "outputs": [],
   "source": [
    "# 22-24\n",
    "df3_deg = pd.read_sql(\n",
    "    \"\"\"\n",
    "    SELECT agep, sch, schl, wkl, wrk, esr, pwgtp, puma\n",
    "    FROM pums_2017\n",
    "    WHERE puma IN ('11610','11611','11612','11613','11614')\n",
    "    AND schl IN ('20','21','22','23','24')\n",
    "    AND sch = '1'\n",
    "    AND agep >= 22.0\n",
    "    AND agep <= 24.0\n",
    "    ORDER BY agep\n",
    "    \"\"\"\n",
    ", conn)"
   ]
  },
  {
   "cell_type": "code",
   "execution_count": 58,
   "metadata": {},
   "outputs": [],
   "source": [
    "df1_deg1 = df1_deg.groupby(['esr']).sum()\n",
    "df2_deg2 = df2_deg.groupby(['esr']).sum()\n",
    "df3_deg3 = df3_deg.groupby(['esr']).sum()\n",
    "\n",
    "\n",
    "oydeg1 = 0\n",
    "oydeg2 = df2_deg2.at['6','pwgtp']\n",
    "oydeg3 = df3_deg3.at['3','pwgtp'] + df3_deg3.at['6','pwgtp']\n",
    "total_oydeg = oydeg1 + oydeg2 + oydeg3"
   ]
  },
  {
   "cell_type": "markdown",
   "metadata": {},
   "source": [
    "### Updated Table\n",
    "Now we can update the table with the new data: \n",
    "\n",
    "![alt text](2017OY_Age.png)"
   ]
  },
  {
   "cell_type": "markdown",
   "metadata": {},
   "source": [
    "### VISUALIZATION - Education Level of Opportunity Youth by Age\n",
    "We will create a stacked bar chart visualization to compare the data from 2014 with the current data in order to visually identify any trends. We will use the proportional difference for plotting since the population totals vary in each data set. \n",
    "\n",
    "- First we find the percentages"
   ]
  },
  {
   "cell_type": "code",
   "execution_count": 60,
   "metadata": {},
   "outputs": [
    {
     "name": "stdout",
     "output_type": "stream",
     "text": [
      "Population of 16-18yo: 25131.0\n",
      "Population of 19-21yo: 21586.0\n",
      "Population of 22-24yo: 27231.0\n",
      "TOTAL: 73948.0\n",
      "--------------------------------------------------------\n",
      "Opportunity Youth 16-18yo: 1739.0\n",
      "Opportunity Youth 19-21yo: 3222.0\n",
      "Opportunity Youth 22-24yo: 4443.0\n",
      "TOTAL: 9404.0\n",
      "OY % of population: [7.0, 15.0, 16.0, 13.0]\n",
      "--------------------------------------------------------\n",
      "Working without diploma 16-18yo: 356.0\n",
      "Working without diploma 19-21yo: 1237.0\n",
      "Working without diploma 22-24yo: 1570.0\n",
      "TOTAL: 3163.0\n",
      "WWD % of population: [1.0, 6.0, 6.0, 4.0]\n",
      "--------------------------------------------------------\n",
      "Not an Opportunity Youth 16-18yo: 23036.0\n",
      "Not an Opportunity Youth 19-21yo: 17127.0\n",
      "Not an Opportunity Youth 22-24yo: 21218.0\n",
      "TOTAL: 61381.0\n",
      "Not OY % of population: [92.0, 79.0, 78.0, 83.0]\n",
      "--------------------------------------------------------\n",
      "OY no diploma 16-18yo: 883.0\n",
      "OY no diploma 19-21yo: 933.0\n",
      "OY no diploma 22-24yo: 1275.0\n",
      "TOTAL: 3091.0\n",
      "OY no diploma % of OY: [51.0, 29.0, 29.0, 33.0]\n",
      "--------------------------------------------------------\n",
      "OY with HS diploma or GED 16-18yo: 738.0\n",
      "OY with HS diploma or GED 19-21yo: 1761.0\n",
      "OY with HS diploma or GED 22-24yo: 1914.0\n",
      "TOTAL: 4413.0\n",
      "OY HS diploma or GED % of OY: [42.0, 55.0, 43.0, 47.0]\n",
      "--------------------------------------------------------\n",
      "OY some college no degree 16-18yo: 118.0\n",
      "OY some college no degree 19-21yo: 481.0\n",
      "OY some college no degree 22-24yo: 894.0\n",
      "TOTAL: 1493.0\n",
      "OY some college no degree % of OY: [7.0, 15.0, 20.0, 16.0]\n",
      "--------------------------------------------------------\n",
      "OY Degree 16-18yo: 0\n",
      "OY Degree 19-21yo: 47.0\n",
      "OY Degree 22-24yo: 360.0\n",
      "TOTAL: 407.0\n",
      "OY with degree % of OY: [0.0, 1.0, 8.0, 4.0]\n"
     ]
    }
   ],
   "source": [
    "print(\"Population of 16-18yo: {}\".format(pop1))\n",
    "print(\"Population of 19-21yo: {}\".format(pop2))\n",
    "print(\"Population of 22-24yo: {}\".format(pop3))\n",
    "print(\"TOTAL: {}\".format(total_pop))\n",
    "print(\"--------------------------------------------------------\")\n",
    "print(\"Opportunity Youth 16-18yo: {}\".format(oy1))\n",
    "print(\"Opportunity Youth 19-21yo: {}\".format(oy2))\n",
    "print(\"Opportunity Youth 22-24yo: {}\".format(oy3))\n",
    "print(\"TOTAL: {}\".format(total_oy))\n",
    "oy_percent = calc_percent(oy1,oy2,oy3,total_oy,pop1,pop2,pop3,total_pop)\n",
    "print(\"OY % of population: {}\".format(oy_percent))\n",
    "print(\"--------------------------------------------------------\")\n",
    "print(\"Working without diploma 16-18yo: {}\".format(wwd1))\n",
    "print(\"Working without diploma 19-21yo: {}\".format(wwd2))\n",
    "print(\"Working without diploma 22-24yo: {}\".format(wwd3))\n",
    "print(\"TOTAL: {}\".format(total_wwd))\n",
    "wwd_percent = calc_percent(wwd1,wwd2,wwd3,total_wwd,pop1,pop2,pop3,total_pop)\n",
    "print(\"WWD % of population: {}\".format(wwd_percent))\n",
    "print(\"--------------------------------------------------------\")\n",
    "print(\"Not an Opportunity Youth 16-18yo: {}\".format(not_oy1))\n",
    "print(\"Not an Opportunity Youth 19-21yo: {}\".format(not_oy2))\n",
    "print(\"Not an Opportunity Youth 22-24yo: {}\".format(not_oy3))\n",
    "print(\"TOTAL: {}\".format(total_not_oy))\n",
    "not_oy_percent = calc_percent(not_oy1,not_oy2,not_oy3,total_not_oy,pop1,pop2,pop3,total_pop)\n",
    "print(\"Not OY % of population: {}\".format(not_oy_percent))\n",
    "print(\"--------------------------------------------------------\")\n",
    "print(\"OY no diploma 16-18yo: {}\".format(oynd1))\n",
    "print(\"OY no diploma 19-21yo: {}\".format(oynd2))\n",
    "print(\"OY no diploma 22-24yo: {}\".format(oynd3))\n",
    "print(\"TOTAL: {}\".format(total_oynd))\n",
    "oynd_percent = calc_percent(oynd1,oynd2,oynd3,total_oynd,oy1,oy2,oy3,total_oy)\n",
    "print(\"OY no diploma % of OY: {}\".format(oynd_percent))\n",
    "print(\"--------------------------------------------------------\")\n",
    "print(\"OY with HS diploma or GED 16-18yo: {}\".format(oydGED1))\n",
    "print(\"OY with HS diploma or GED 19-21yo: {}\".format(oydGED2))\n",
    "print(\"OY with HS diploma or GED 22-24yo: {}\".format(oydGED3))\n",
    "print(\"TOTAL: {}\".format(total_oydGED))\n",
    "oydGED_percent = calc_percent(oydGED1,oydGED2,oydGED3,total_oydGED,oy1,oy2,oy3,total_oy)\n",
    "print(\"OY HS diploma or GED % of OY: {}\".format(oydGED_percent))\n",
    "print(\"--------------------------------------------------------\")\n",
    "print(\"OY some college no degree 16-18yo: {}\".format(oyscnd1))\n",
    "print(\"OY some college no degree 19-21yo: {}\".format(oyscnd2))\n",
    "print(\"OY some college no degree 22-24yo: {}\".format(oyscnd3))\n",
    "print(\"TOTAL: {}\".format(total_oyscnd))\n",
    "oyscnd_percent = calc_percent(oyscnd1,oyscnd2,oyscnd3,total_oyscnd,oy1,oy2,oy3,total_oy)\n",
    "print(\"OY some college no degree % of OY: {}\".format(oyscnd_percent))\n",
    "print(\"--------------------------------------------------------\")\n",
    "print(\"OY Degree 16-18yo: {}\".format(oydeg1))\n",
    "print(\"OY Degree 19-21yo: {}\".format(oydeg2))\n",
    "print(\"OY Degree 22-24yo: {}\".format(oydeg3))\n",
    "print(\"TOTAL: {}\".format(total_oydeg))\n",
    "oydeg_percent = calc_percent(oydeg1,oydeg2,oydeg3,total_oydeg,oy1,oy2,oy3,total_oy)\n",
    "print(\"OY with degree % of OY: {}\".format(oydeg_percent))"
   ]
  },
  {
   "cell_type": "markdown",
   "metadata": {},
   "source": [
    "Now we can make our dataframes and plot the stacked bar chart: "
   ]
  },
  {
   "cell_type": "code",
   "execution_count": 66,
   "metadata": {},
   "outputs": [
    {
     "data": {
      "image/png": "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\n",
      "text/plain": [
       "<Figure size 864x576 with 1 Axes>"
      ]
     },
     "metadata": {
      "needs_background": "light"
     },
     "output_type": "display_data"
    }
   ],
   "source": [
    "# create dataframes\n",
    "raw_data = {'No diploma': oynd_percent[:3], 'HS diploma or GED': oydGED_percent[:3],'Some college, no degree': oyscnd_percent[:3], 'Degree, Associate or higher':oydeg_percent[:3]}\n",
    "df1 = pd.DataFrame(raw_data)\n",
    "raw_data2 = {'No diploma': [57,28,23], 'HS diploma or GED': [35,46,35],'Some college, no degree': [6,23,20], 'Degree, Associate or higher':[1,3,22]}\n",
    "df2 = pd.DataFrame(raw_data2) \n",
    "\n",
    "# Then call :\n",
    "plot_clustered_stacked([df2, df1],[\"2017\", \"2014\"]);"
   ]
  },
  {
   "cell_type": "markdown",
   "metadata": {},
   "source": [
    "### Identifying any trends\n",
    "We can see that within the 22-24 age group there was a significant dropoff in the number of degreed Opportunity Youth. This could mean that more grads are being hired into the workforce, or less youth are going into higher education. When you look at the 19-21 age group, you see an increase in the amount of OY that have a HS diploma or GED, and a shrinking population of those with some college credits. We can possibly deduce that less Youth are taking the next step in getting higher education, but we would need more data to support that theory. It could be that more youth are finishing degrees and getting hired into the work force. Further investigation can be done to confirm this by seeing if the general population in these regions have seen any changes in enrollment or job placement."
   ]
  },
  {
   "cell_type": "markdown",
   "metadata": {},
   "source": [
    "## Real World Application\n",
    "\n",
    "According to an article from the Aspen Institute, “one estimate places the personal and public costs of not changing the trajectories of opportunity youth at $6.3 trillion dollars over the lifetimes of all current opportunity youth” (Aspen Institute). The barriers preventing these individuals from reconnecting with society represent a massive economic burden on society as a whole. Removing the barriers for these individuals and helping them get reconnected with our societal structure will greatly benefit both local economies and the national economy.\n",
    "\n",
    "Our analysis provides a basis for where relief efforts should be targeted. We found the areas within King County to have the highest number of Opportunity Youth and therefore are the areas we should most invest in. \n"
   ]
  },
  {
   "cell_type": "markdown",
   "metadata": {},
   "source": [
    "## Next Steps"
   ]
  },
  {
   "cell_type": "markdown",
   "metadata": {},
   "source": [
    "The next steps of our project would be to identify the specific barriers that Opportunity Youth are facing. For example, the availability of transportation so they can travel to work or the presence of an authority figure to help guide them. This information could provide great insight into what strategies and policies would best get Opportunity Youth reconnected with society."
   ]
  },
  {
   "cell_type": "code",
   "execution_count": null,
   "metadata": {},
   "outputs": [],
   "source": []
  }
 ],
 "metadata": {
  "kernelspec": {
   "display_name": "Python 3 (oy-env)",
   "language": "python",
   "name": "oy-env"
  },
  "language_info": {
   "codemirror_mode": {
    "name": "ipython",
    "version": 3
   },
   "file_extension": ".py",
   "mimetype": "text/x-python",
   "name": "python",
   "nbconvert_exporter": "python",
   "pygments_lexer": "ipython3",
   "version": "3.8.1"
  }
 },
 "nbformat": 4,
 "nbformat_minor": 4
}
